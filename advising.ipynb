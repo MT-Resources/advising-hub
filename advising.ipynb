{
 "cells": [
  {
   "cell_type": "markdown",
   "metadata": {},
   "source": [
    "# St Andrews Mathematics and Statistics Advising Tool\n",
    "\n",
    "Welcome to the Honours advising tool for Mathematics and Statistics programmes at St Andrews. This tool is designed to check that planned module choices:\n",
    "- Satisfy the programme requirements\n",
    "- Satisfy prerequisites\n",
    "- Avoid timetable clashes\n",
    "\n",
    "We hope that this tool helps you to make your choices. Please read the instructions and warnings below carefully.\n",
    "\n",
    "### Warnings\n",
    "- This tool is intended to be a helpful checker but is not definitive. The definitive requirements are laid out the [programme requirements](https://e-vision.st-andrews.ac.uk/cview/reqs/2024-25/list.html?v=dp).\n",
    "- Joint students should be aware that only the Mathematics and Statistics parts of programme requirements are checked.\n",
    "- The input and output of this tool are not official; choices will still need to be made through the usual advising system, and your Adviser of Studies will still need to approve your module choices.\n",
    "- Errors may for example occur if you have studied abroad, taken a leave of absence, or other situations; in these cases please discuss your module choices directly with your Adviser.\n",
    "- The server *does not* save your module choices or summary output between sessions. You *must* save your module choices and output by downloading it before you exit the server, or it will be lost.\n",
    "\n",
    "\n",
    "### Instructions for use\n",
    "1. If you did not select the 'Standard Maths' option when opening the tool, stop your server using `File > Hub Control Panel > Stop My Server` (making sure to save any other open work on your server first) and then click the link you used to access the tool again.\n",
    "2. If you have not already done so, fill out your module choices in the provided Excel sheet.\n",
    "    - You can download a template (`choices-template.xlsx`) from the file tab on the left by right-clicking (MacOS: Control-click) on it. You should then complete it on your own device.\n",
    "    - While the template is intended for students entering Honours, it can also be used by students already in Honours, just fill in the parts of the spreadsheet for future years (previous/current years will be read from your student record below).\n",
    "    - When entering module choices in the Excel sheet, only the module code is read by the tool; the name, credits and hour are not required. Take care that you enter accurate codes.\n",
    "3. Upload your module choice sheet to this folder using the upload button on the left:\n",
    "<center><img src=\"images/upload.png\" alt=\"Location of upload button, near top-left of window\" width=\"250\"/> </center>\n",
    "    You can alternatively drag-and-drop your file into the file browser area on the left:\n",
    "<center><img src=\"images/files-area.png\" alt=\"Files can be dragged into the file browser pane on the left\" width=\"250\"/></center>\n",
    "4. Click and drag your choices into the module-choices folder:\n",
    "<center><img src=\"images/drag-choices.png\" alt=\"The uploaded xlsx file should be dragged into the module_choices folder\" width=\"250\"/></center>\n",
    "\n",
    "5. Open MySaint, navigate to your Student Record (Home > My tasks), and click the link \"Academic data CSV\" on the left to download your data.\n",
    "    - This will be the final link within the section for your current course, as shown below.\n",
    "    - If you have done multiple courses, make sure you download the data for your current programme.\n",
    "<center><img src=\"images/student-data.png\" alt=\"Location of link to download your personal academic data, as the final link within the expandable section for your current course on the left of the page.\" width=\"250\"/> </center>\n",
    "6. Upload the downloaded data file to this folder, as you did in step 3.\n",
    "7. Drag the data file into the `student_data` folder, as you did in step 4.\n",
    "8. Run the code cell at the bottom of this sheet (click on it and then Control-Enter).\n",
    "    - The output should be straightforward; if there are any errors please read them and check that you have followed the instructions above carefully.\n",
    "9. Read the output from the cell carefully and consider any issues the tool has identified with your plan.\n",
    "10. If there are any issues, modify your module choice spreadsheet and re-upload it as in steps 3 and 4, then run the cell below again.\n",
    "11. Repeat steps 8-10 until you have resolved issues wherever possible.\n",
    "12. **Save your module choices (Right click > Download) and the `summary.docx` file from the file tab on the left.** They will be deleted when your server shuts down at the end of your session.\n",
    "13. Check for yourself that your choices satisfy:\n",
    "    - The [programme requirements](https://e-vision.st-andrews.ac.uk/cview/reqs/2024-25/list.html?v=dp)\n",
    "    - The [timetables](https://www.st-andrews.ac.uk/mathematics-statistics/students/taught-modules/timetables/)\n",
    "    - Pre-requisites and other requirements as listed in the [module catalogue](https://www.st-andrews.ac.uk/subjects/modules/)\n",
    "\n",
    "### Mistakes\n",
    "\n",
    "The advising tool is relatively new, and may sometimes be incorrect. If you have identified a mistake in the tool, please email your Adviser of Studies with:\n",
    "1. A screenshot of the output from the cell below\n",
    "2. Your module choices sheet\n",
    "3. A brief description of what you think the mistake is"
   ]
  },
  {
   "cell_type": "code",
   "execution_count": null,
   "metadata": {},
   "outputs": [],
   "source": [
    "from advising import process_folder, save_summary_data_frame\n",
    "summary = process_folder(\"module_choices\")\n",
    "save_summary_data_frame(summary, \"summary.docx\")"
   ]
  }
 ],
 "metadata": {
  "kernelspec": {
   "display_name": "Python 3 (ipykernel)",
   "language": "python",
   "name": "python3"
  },
  "language_info": {
   "codemirror_mode": {
    "name": "ipython",
    "version": 3
   },
   "file_extension": ".py",
   "mimetype": "text/x-python",
   "name": "python",
   "nbconvert_exporter": "python",
   "pygments_lexer": "ipython3",
   "version": "3.11.9"
  }
 },
 "nbformat": 4,
 "nbformat_minor": 4
}
